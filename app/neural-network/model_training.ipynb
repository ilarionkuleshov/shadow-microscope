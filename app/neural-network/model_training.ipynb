{
  "nbformat": 4,
  "nbformat_minor": 0,
  "metadata": {
    "colab": {
      "name": "model_training.ipynb",
      "provenance": [],
      "collapsed_sections": []
    },
    "kernelspec": {
      "name": "python3",
      "display_name": "Python 3"
    },
    "language_info": {
      "name": "python"
    }
  },
  "cells": [
    {
      "cell_type": "code",
      "execution_count": null,
      "metadata": {
        "id": "c_JCzKaZ4YNz"
      },
      "outputs": [],
      "source": [
        "from google.colab import drive\n",
        "drive.mount('/content/gdrive/')"
      ]
    },
    {
      "cell_type": "code",
      "source": [
        "!mkdir /content/gdrive/'My Drive'/model-training/"
      ],
      "metadata": {
        "id": "r72N1zRd4nMh"
      },
      "execution_count": null,
      "outputs": []
    },
    {
      "cell_type": "code",
      "source": [
        "%cd /content/gdrive/'My Drive'/model-training/"
      ],
      "metadata": {
        "id": "L9DOdlss4phO"
      },
      "execution_count": null,
      "outputs": []
    },
    {
      "cell_type": "code",
      "source": [
        "!git clone https://github.com/tensorflow/models.git"
      ],
      "metadata": {
        "id": "MGLGK2fY4rLX"
      },
      "execution_count": null,
      "outputs": []
    },
    {
      "cell_type": "code",
      "source": [
        "%cd models/research\n",
        "!protoc object_detection/protos/*.proto --python_out=.\n",
        "!cp object_detection/packages/tf2/setup.py .\n",
        "!python -m pip install ."
      ],
      "metadata": {
        "id": "jYJSm4mS4sy-"
      },
      "execution_count": null,
      "outputs": []
    },
    {
      "cell_type": "code",
      "source": [
        "%cd object_detection/"
      ],
      "metadata": {
        "id": "TpPfwPcm4vjW"
      },
      "execution_count": null,
      "outputs": []
    },
    {
      "cell_type": "code",
      "source": [
        ""
      ],
      "metadata": {
        "id": "BlEmVkJn40c1"
      },
      "execution_count": null,
      "outputs": []
    },
    {
      "cell_type": "code",
      "source": [
        "DATASET_DIR = 'MicroobjectDataset/'\n",
        "\n",
        "CLASS_1 = 'microobject'"
      ],
      "metadata": {
        "id": "RIPplKRD40fU"
      },
      "execution_count": null,
      "outputs": []
    },
    {
      "cell_type": "code",
      "source": [
        "import glob\n",
        "import xml.etree.ElementTree as ET\n",
        "\n",
        "import tensorflow as tf\n",
        "\n",
        "from utils import dataset_util\n",
        "\n",
        "\n",
        "def create_record(name):\n",
        "  tfrecord_writer = tf.io.TFRecordWriter(f\"{DATASET_DIR}{name}.record\")\n",
        "\n",
        "  files = glob.glob(f\"{DATASET_DIR}annotations/{name}/*.xml\")\n",
        "\n",
        "  files_n = len(files)\n",
        "  counter = 1\n",
        "\n",
        "  for xml_file in files:\n",
        "    tree = ET.parse(xml_file)\n",
        "    root = tree.getroot()\n",
        "\n",
        "    filename = None\n",
        "    width = None\n",
        "    height = None\n",
        "\n",
        "    class_texts = []\n",
        "    class_labels = []\n",
        "\n",
        "    x_mins = []\n",
        "    y_mins = []\n",
        "    x_maxes = []\n",
        "    y_maxes = []\n",
        "\n",
        "    for obj in root.findall('object'):\n",
        "      filename = root.find('filename').text\n",
        "      width = int(root.find('size').find('width').text)\n",
        "      height = int(root.find('size').find('height').text)\n",
        "\n",
        "      obj_class = obj.find('name').text.encode('utf-8')\n",
        "      class_texts.append(obj_class)\n",
        "\n",
        "      if obj_class == CLASS_1:\n",
        "        class_labels.append(1)\n",
        "      \n",
        "      x_mins.append(int(obj.find('bndbox').find('xmin').text)/width)\n",
        "      y_mins.append(int(obj.find('bndbox').find('ymin').text)/height)\n",
        "      x_maxes.append(int(obj.find('bndbox').find('xmax').text)/width)\n",
        "      y_maxes.append(int(obj.find('bndbox').find('ymax').text)/height) \n",
        "\n",
        "      with tf.io.gfile.GFile(f\"{DATASET_DIR}images/{filename}\", 'rb') as gfile:\n",
        "        encoded_img = gfile.read()\n",
        "      \n",
        "      tf_example = tf.train.Example(features=tf.train.Features(feature={\n",
        "          'image/height': dataset_util.int64_feature(height),\n",
        "          'image/width': dataset_util.int64_feature(width),\n",
        "          'image/filename': dataset_util.bytes_feature(filename.encode('utf8')),\n",
        "          'image/source_id': dataset_util.bytes_feature(filename.encode('utf8')),\n",
        "          'image/encoded': dataset_util.bytes_feature(encoded_img),\n",
        "          'image/format': dataset_util.bytes_feature(b'jpg'),\n",
        "          'image/object/bbox/xmin': dataset_util.float_list_feature(x_mins),\n",
        "          'image/object/bbox/xmax': dataset_util.float_list_feature(x_maxes),\n",
        "          'image/object/bbox/ymin': dataset_util.float_list_feature(y_mins),\n",
        "          'image/object/bbox/ymax': dataset_util.float_list_feature(y_maxes),\n",
        "          'image/object/class/text': dataset_util.bytes_list_feature(class_texts),\n",
        "          'image/object/class/label': dataset_util.int64_list_feature(class_labels)\n",
        "      }))\n",
        "      tfrecord_writer.write(tf_example.SerializeToString())\n",
        "\n",
        "      print(f\"{name} record: {counter}/{files_n}\")\n",
        "      counter += 1\n",
        "  \n",
        "  tfrecord_writer.close()\n",
        "\n",
        "\n",
        "create_record('train')\n",
        "create_record('eval')"
      ],
      "metadata": {
        "id": "p3g6knat5VC0"
      },
      "execution_count": null,
      "outputs": []
    },
    {
      "cell_type": "code",
      "source": [
        "!wget http://download.tensorflow.org/models/object_detection/tf2/20200711/ssd_mobilenet_v2_320x320_coco17_tpu-8.tar.gz\n",
        "!tar -xf ssd_mobilenet_v2_320x320_coco17_tpu-8.tar.gz --directory=MicroobjectDataset/"
      ],
      "metadata": {
        "id": "xHBMph3sCOdW"
      },
      "execution_count": null,
      "outputs": []
    },
    {
      "cell_type": "code",
      "source": [
        "!mkdir MicroobjectDataset/training/"
      ],
      "metadata": {
        "id": "ckfEzpUfCSs3"
      },
      "execution_count": null,
      "outputs": []
    },
    {
      "cell_type": "code",
      "source": [
        "!python model_main_tf2.py --pipeline_config_path=MicroobjectDataset/ssd_mobilenet_v2_320x320_coco17_tpu-8/pipeline.config --model_dir=MicroobjectDataset/training/"
      ],
      "metadata": {
        "id": "KlZ0cOHKCjJb"
      },
      "execution_count": null,
      "outputs": []
    },
    {
      "cell_type": "code",
      "source": [
        "!pip install tensorboardcolab\n",
        "%load_ext tensorboard\n",
        "%tensorboard --logdir=MicroobjectDataset/training/"
      ],
      "metadata": {
        "id": "R-6d40PXCs4C"
      },
      "execution_count": null,
      "outputs": []
    },
    {
      "cell_type": "code",
      "source": [
        "!python model_main_tf2.py --pipeline_config_path=MicroobjectDataset/ssd_mobilenet_v2_320x320_coco17_tpu-8/pipeline.config --model_dir=MicroobjectDataset/training/ --checkpoint_dir=MicroobjectDataset/training/"
      ],
      "metadata": {
        "id": "ACgPIFm0C1ZE"
      },
      "execution_count": null,
      "outputs": []
    },
    {
      "cell_type": "code",
      "source": [
        "!mkdir MicroobjectDataset/tflite-model/"
      ],
      "metadata": {
        "id": "I_W2dZDIC62D"
      },
      "execution_count": null,
      "outputs": []
    },
    {
      "cell_type": "code",
      "source": [
        "!python export_tflite_graph_tf2.py --pipeline_config_path=MicroobjectDataset/ssd_mobilenet_v2_320x320_coco17_tpu-8/pipeline.config --trained_checkpoint_dir=MicroobjectDataset/training/ --output_directory=MicroobjectDataset/tflite-model/"
      ],
      "metadata": {
        "id": "B_oTNEGuDBw6"
      },
      "execution_count": null,
      "outputs": []
    },
    {
      "cell_type": "code",
      "source": [
        "!tflite_convert --saved_model_dir=MicroobjectDataset/tflite-model/saved_model/ --output_file=MicroobjectDataset/tflite-model/model.tflite"
      ],
      "metadata": {
        "id": "p7j_zP3KDJqB"
      },
      "execution_count": null,
      "outputs": []
    }
  ]
}